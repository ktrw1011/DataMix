{
 "cells": [
  {
   "cell_type": "code",
   "execution_count": 95,
   "metadata": {},
   "outputs": [],
   "source": [
    "import pandas as pd\n",
    "import numpy as np\n",
    "\n",
    "import matplotlib.pyplot as plt\n",
    "import seaborn as sns\n",
    "\n",
    "import itertools\n",
    "\n",
    "import statsmodels.api as sm\n",
    "\n",
    "import gc\n",
    "\n",
    "%matplotlib inline\n",
    "\n",
    "pd.set_option('display.max_columns', 50)"
   ]
  },
  {
   "cell_type": "code",
   "execution_count": 152,
   "metadata": {},
   "outputs": [],
   "source": [
    "data = pd.read_csv('bank_marketing_train.csv')\n",
    "\n",
    "y_map = {'no':0, 'yes':1}\n",
    "data['y'] = data['y'].map(y_map)"
   ]
  },
  {
   "cell_type": "markdown",
   "metadata": {},
   "source": [
    "# Data Info"
   ]
  },
  {
   "cell_type": "code",
   "execution_count": 3,
   "metadata": {},
   "outputs": [
    {
     "name": "stdout",
     "output_type": "stream",
     "text": [
      "data shape: (37068, 21)\n"
     ]
    }
   ],
   "source": [
    "print('data shape: {}'.format(data.shape))"
   ]
  },
  {
   "cell_type": "code",
   "execution_count": 4,
   "metadata": {},
   "outputs": [
    {
     "data": {
      "text/html": [
       "<div>\n",
       "<style scoped>\n",
       "    .dataframe tbody tr th:only-of-type {\n",
       "        vertical-align: middle;\n",
       "    }\n",
       "\n",
       "    .dataframe tbody tr th {\n",
       "        vertical-align: top;\n",
       "    }\n",
       "\n",
       "    .dataframe thead th {\n",
       "        text-align: right;\n",
       "    }\n",
       "</style>\n",
       "<table border=\"1\" class=\"dataframe\">\n",
       "  <thead>\n",
       "    <tr style=\"text-align: right;\">\n",
       "      <th></th>\n",
       "      <th>count</th>\n",
       "      <th>mean</th>\n",
       "      <th>std</th>\n",
       "      <th>min</th>\n",
       "      <th>25%</th>\n",
       "      <th>50%</th>\n",
       "      <th>75%</th>\n",
       "      <th>max</th>\n",
       "    </tr>\n",
       "  </thead>\n",
       "  <tbody>\n",
       "    <tr>\n",
       "      <th>age</th>\n",
       "      <td>37068.0</td>\n",
       "      <td>39.653286</td>\n",
       "      <td>9.461470</td>\n",
       "      <td>18.000</td>\n",
       "      <td>32.000</td>\n",
       "      <td>38.000</td>\n",
       "      <td>47.000</td>\n",
       "      <td>95.000</td>\n",
       "    </tr>\n",
       "    <tr>\n",
       "      <th>duration</th>\n",
       "      <td>37068.0</td>\n",
       "      <td>254.979012</td>\n",
       "      <td>259.979972</td>\n",
       "      <td>0.000</td>\n",
       "      <td>99.000</td>\n",
       "      <td>175.000</td>\n",
       "      <td>314.000</td>\n",
       "      <td>4918.000</td>\n",
       "    </tr>\n",
       "    <tr>\n",
       "      <th>campaign</th>\n",
       "      <td>37068.0</td>\n",
       "      <td>2.647189</td>\n",
       "      <td>2.876004</td>\n",
       "      <td>1.000</td>\n",
       "      <td>1.000</td>\n",
       "      <td>2.000</td>\n",
       "      <td>3.000</td>\n",
       "      <td>56.000</td>\n",
       "    </tr>\n",
       "    <tr>\n",
       "      <th>pdays</th>\n",
       "      <td>37068.0</td>\n",
       "      <td>989.565474</td>\n",
       "      <td>96.357433</td>\n",
       "      <td>0.000</td>\n",
       "      <td>999.000</td>\n",
       "      <td>999.000</td>\n",
       "      <td>999.000</td>\n",
       "      <td>999.000</td>\n",
       "    </tr>\n",
       "    <tr>\n",
       "      <th>previous</th>\n",
       "      <td>37068.0</td>\n",
       "      <td>0.100248</td>\n",
       "      <td>0.318217</td>\n",
       "      <td>0.000</td>\n",
       "      <td>0.000</td>\n",
       "      <td>0.000</td>\n",
       "      <td>0.000</td>\n",
       "      <td>4.000</td>\n",
       "    </tr>\n",
       "    <tr>\n",
       "      <th>emp.var.rate</th>\n",
       "      <td>37068.0</td>\n",
       "      <td>0.353075</td>\n",
       "      <td>1.387661</td>\n",
       "      <td>-2.900</td>\n",
       "      <td>-1.800</td>\n",
       "      <td>1.100</td>\n",
       "      <td>1.400</td>\n",
       "      <td>1.400</td>\n",
       "    </tr>\n",
       "    <tr>\n",
       "      <th>cons.price.idx</th>\n",
       "      <td>37068.0</td>\n",
       "      <td>93.613960</td>\n",
       "      <td>0.520734</td>\n",
       "      <td>92.469</td>\n",
       "      <td>93.075</td>\n",
       "      <td>93.918</td>\n",
       "      <td>93.994</td>\n",
       "      <td>94.465</td>\n",
       "    </tr>\n",
       "    <tr>\n",
       "      <th>cons.conf.idx</th>\n",
       "      <td>37068.0</td>\n",
       "      <td>-41.107484</td>\n",
       "      <td>3.996904</td>\n",
       "      <td>-50.000</td>\n",
       "      <td>-42.700</td>\n",
       "      <td>-42.000</td>\n",
       "      <td>-36.400</td>\n",
       "      <td>-33.600</td>\n",
       "    </tr>\n",
       "    <tr>\n",
       "      <th>euribor3m</th>\n",
       "      <td>37068.0</td>\n",
       "      <td>3.934684</td>\n",
       "      <td>1.536081</td>\n",
       "      <td>1.029</td>\n",
       "      <td>1.663</td>\n",
       "      <td>4.858</td>\n",
       "      <td>4.962</td>\n",
       "      <td>5.045</td>\n",
       "    </tr>\n",
       "    <tr>\n",
       "      <th>nr.employed</th>\n",
       "      <td>37068.0</td>\n",
       "      <td>5183.897782</td>\n",
       "      <td>52.929040</td>\n",
       "      <td>5076.000</td>\n",
       "      <td>5099.000</td>\n",
       "      <td>5196.000</td>\n",
       "      <td>5228.000</td>\n",
       "      <td>5228.000</td>\n",
       "    </tr>\n",
       "    <tr>\n",
       "      <th>y</th>\n",
       "      <td>37068.0</td>\n",
       "      <td>0.074107</td>\n",
       "      <td>0.261949</td>\n",
       "      <td>0.000</td>\n",
       "      <td>0.000</td>\n",
       "      <td>0.000</td>\n",
       "      <td>0.000</td>\n",
       "      <td>1.000</td>\n",
       "    </tr>\n",
       "  </tbody>\n",
       "</table>\n",
       "</div>"
      ],
      "text/plain": [
       "                  count         mean         std       min       25%  \\\n",
       "age             37068.0    39.653286    9.461470    18.000    32.000   \n",
       "duration        37068.0   254.979012  259.979972     0.000    99.000   \n",
       "campaign        37068.0     2.647189    2.876004     1.000     1.000   \n",
       "pdays           37068.0   989.565474   96.357433     0.000   999.000   \n",
       "previous        37068.0     0.100248    0.318217     0.000     0.000   \n",
       "emp.var.rate    37068.0     0.353075    1.387661    -2.900    -1.800   \n",
       "cons.price.idx  37068.0    93.613960    0.520734    92.469    93.075   \n",
       "cons.conf.idx   37068.0   -41.107484    3.996904   -50.000   -42.700   \n",
       "euribor3m       37068.0     3.934684    1.536081     1.029     1.663   \n",
       "nr.employed     37068.0  5183.897782   52.929040  5076.000  5099.000   \n",
       "y               37068.0     0.074107    0.261949     0.000     0.000   \n",
       "\n",
       "                     50%       75%       max  \n",
       "age               38.000    47.000    95.000  \n",
       "duration         175.000   314.000  4918.000  \n",
       "campaign           2.000     3.000    56.000  \n",
       "pdays            999.000   999.000   999.000  \n",
       "previous           0.000     0.000     4.000  \n",
       "emp.var.rate       1.100     1.400     1.400  \n",
       "cons.price.idx    93.918    93.994    94.465  \n",
       "cons.conf.idx    -42.000   -36.400   -33.600  \n",
       "euribor3m          4.858     4.962     5.045  \n",
       "nr.employed     5196.000  5228.000  5228.000  \n",
       "y                  0.000     0.000     1.000  "
      ]
     },
     "execution_count": 4,
     "metadata": {},
     "output_type": "execute_result"
    }
   ],
   "source": [
    "data.describe().T"
   ]
  },
  {
   "cell_type": "markdown",
   "metadata": {},
   "source": [
    "Null値はない"
   ]
  },
  {
   "cell_type": "code",
   "execution_count": 5,
   "metadata": {},
   "outputs": [
    {
     "data": {
      "text/plain": [
       "age               False\n",
       "job               False\n",
       "marital           False\n",
       "education         False\n",
       "default           False\n",
       "housing           False\n",
       "loan              False\n",
       "contact           False\n",
       "month             False\n",
       "day_of_week       False\n",
       "duration          False\n",
       "campaign          False\n",
       "pdays             False\n",
       "previous          False\n",
       "poutcome          False\n",
       "emp.var.rate      False\n",
       "cons.price.idx    False\n",
       "cons.conf.idx     False\n",
       "euribor3m         False\n",
       "nr.employed       False\n",
       "y                 False\n",
       "dtype: bool"
      ]
     },
     "execution_count": 5,
     "metadata": {},
     "output_type": "execute_result"
    }
   ],
   "source": [
    "data.isnull().any(axis=0)"
   ]
  },
  {
   "cell_type": "code",
   "execution_count": 6,
   "metadata": {},
   "outputs": [],
   "source": [
    "cat_cols = data.select_dtypes('object').columns.tolist()\n",
    "int_cols = data.select_dtypes(exclude='object').columns.tolist()\n",
    "int_cols.remove('y')"
   ]
  },
  {
   "cell_type": "code",
   "execution_count": 7,
   "metadata": {},
   "outputs": [
    {
     "name": "stdout",
     "output_type": "stream",
     "text": [
      "category columns: ['job', 'marital', 'education', 'default', 'housing', 'loan', 'contact', 'month', 'day_of_week', 'poutcome']\n",
      "numeric columns ['age', 'duration', 'campaign', 'pdays', 'previous', 'emp.var.rate', 'cons.price.idx', 'cons.conf.idx', 'euribor3m', 'nr.employed']\n"
     ]
    }
   ],
   "source": [
    "print('category columns:', cat_cols)\n",
    "print('numeric columns', int_cols)"
   ]
  },
  {
   "cell_type": "markdown",
   "metadata": {},
   "source": [
    "## ターゲットの比率"
   ]
  },
  {
   "cell_type": "code",
   "execution_count": 8,
   "metadata": {},
   "outputs": [
    {
     "data": {
      "image/png": "[encoded data removed]",
      "text/plain": [
       "<Figure size 432x288 with 1 Axes>"
      ]
     },
     "metadata": {
      "needs_background": "light"
     },
     "output_type": "display_data"
    }
   ],
   "source": [
    "target_ratio = data['y'].value_counts() / len(data)\n",
    "\n",
    "fig, ax = plt.subplots(1, 1)\n",
    "ax.bar([0,1], target_ratio)\n",
    "ax.set_xticks([0, 1])\n",
    "ax.set_title('target ratio')\n",
    "plt.show()"
   ]
  },
  {
   "cell_type": "code",
   "execution_count": 9,
   "metadata": {},
   "outputs": [
    {
     "name": "stdout",
     "output_type": "stream",
     "text": [
      "target ratio 7.4107%\n"
     ]
    }
   ],
   "source": [
    "print('target ratio {:.4%}'.format(target_ratio[1]))"
   ]
  },
  {
   "cell_type": "markdown",
   "metadata": {},
   "source": [
    "imbalanceデータ"
   ]
  },
  {
   "cell_type": "markdown",
   "metadata": {},
   "source": [
    "## Job "
   ]
  },
  {
   "cell_type": "code",
   "execution_count": 10,
   "metadata": {},
   "outputs": [
    {
     "data": {
      "image/png": "[encoded data removed]",
      "text/plain": [
       "<Figure size 1080x360 with 1 Axes>"
      ]
     },
     "metadata": {
      "needs_background": "light"
     },
     "output_type": "display_data"
    }
   ],
   "source": [
    "fig, ax = plt.subplots(1, 1, figsize=(15, 5))\n",
    "\n",
    "freq = data.groupby('job').size() / len(data)\n",
    "target_ratio = data.groupby('job').y.mean()\n",
    "\n",
    "wt = np.arange(len(freq.index))\n",
    "ax.bar(wt, freq, width=0.4, label='frequencey')\n",
    "ax.bar(wt +0.4 ,target_ratio , width=0.4, label='target ratio')\n",
    "ax.set_xticks(wt + 0.2)\n",
    "ax.set_xticklabels(freq.index)\n",
    "plt.legend()\n",
    "plt.show()"
   ]
  },
  {
   "cell_type": "markdown",
   "metadata": {},
   "source": [
    "架電の傾向\n",
    "- 主にadmin.(英語圏では総務的なポジションのことを指すらしい)とblue-coller、techicianといった技術職に架電が行われている\n",
    "- グループ内のtargetの割合が高いのが引退したretiredと学生であるstudentが多い\n",
    "\n",
    "仮説\n",
    "- Studentのtagertの割合が高いのは年齢によるものではないか？"
   ]
  },
  {
   "cell_type": "markdown",
   "metadata": {},
   "source": [
    "### Studentの年齢分布"
   ]
  },
  {
   "cell_type": "code",
   "execution_count": 11,
   "metadata": {},
   "outputs": [],
   "source": [
    "student = data[data['job'] == 'student'].copy()"
   ]
  },
  {
   "cell_type": "code",
   "execution_count": 13,
   "metadata": {},
   "outputs": [
    {
     "data": {
      "image/png": "[encoded data removed]",
      "text/plain": [
       "<Figure size 432x288 with 1 Axes>"
      ]
     },
     "metadata": {
      "needs_background": "light"
     },
     "output_type": "display_data"
    }
   ],
   "source": [
    "student['age'].hist();"
   ]
  },
  {
   "cell_type": "markdown",
   "metadata": {},
   "source": [
    "25歳以下、26歳以上35歳以下、それ以上でビニングして各ビンのtagertの比率を比べる"
   ]
  },
  {
   "cell_type": "code",
   "execution_count": 15,
   "metadata": {},
   "outputs": [],
   "source": [
    "def bining_age(age):\n",
    "    if age <= 25:\n",
    "        return 0\n",
    "    elif 26 <= age < 35:\n",
    "        return 1\n",
    "    else:\n",
    "        return 2\n",
    "\n",
    "student['age_bin'] = student['age'].map(bining_age) "
   ]
  },
  {
   "cell_type": "code",
   "execution_count": 18,
   "metadata": {},
   "outputs": [
    {
     "data": {
      "image/png": "[encoded data removed]",
      "text/plain": [
       "<Figure size 576x360 with 1 Axes>"
      ]
     },
     "metadata": {
      "needs_background": "light"
     },
     "output_type": "display_data"
    }
   ],
   "source": [
    "fig, ax = plt.subplots(1, 1, figsize=(8, 5))\n",
    "wt = np.arange(3)\n",
    "bin_ratio = student.groupby('age_bin').size() / np.sum(student.groupby('age_bin').size())\n",
    "target_ratio = student.groupby('age_bin').y.mean()\n",
    "ax.bar(wt, bin_ratio, label='bin ratio')\n",
    "ax.plot(target_ratio, c='y', label='target ratio')\n",
    "ax.set_xticks(wt)\n",
    "ax.set_xticklabels(['under 25', '26-35', 'over 36'])\n",
    "plt.show()"
   ]
  },
  {
   "cell_type": "markdown",
   "metadata": {},
   "source": [
    "仮説通りStudent内でも年齢が高くなるにつれてtagetの比率が下がることが分かった  \n",
    "\n",
    "\n",
    "retiredのtarget比率が高い理由を探索する\n",
    "\n",
    "### retiredの年齢分布"
   ]
  },
  {
   "cell_type": "code",
   "execution_count": 19,
   "metadata": {},
   "outputs": [],
   "source": [
    "retired = data[data['job'] == 'retired'].copy()"
   ]
  },
  {
   "cell_type": "code",
   "execution_count": 63,
   "metadata": {},
   "outputs": [
    {
     "data": {
      "image/png": "[encoded data removed]",
      "text/plain": [
       "<Figure size 432x288 with 1 Axes>"
      ]
     },
     "metadata": {
      "needs_background": "light"
     },
     "output_type": "display_data"
    }
   ],
   "source": [
    "sns.distplot(retired['age']);"
   ]
  },
  {
   "cell_type": "code",
   "execution_count": 29,
   "metadata": {},
   "outputs": [],
   "source": [
    "def bining_age(age):\n",
    "    if age <= 49:\n",
    "        return 0\n",
    "    elif 50 <= age <  60:\n",
    "        return 1\n",
    "    elif 60 <= age < 70:\n",
    "        return 2\n",
    "    else:\n",
    "        return 3\n",
    "\n",
    "retired['age_bin'] = retired['age'].map(bining_age) "
   ]
  },
  {
   "cell_type": "code",
   "execution_count": 34,
   "metadata": {},
   "outputs": [
    {
     "data": {
      "image/png": "[encoded data removed]",
      "text/plain": [
       "<Figure size 576x360 with 1 Axes>"
      ]
     },
     "metadata": {
      "needs_background": "light"
     },
     "output_type": "display_data"
    }
   ],
   "source": [
    "fig, ax = plt.subplots(1, 1, figsize=(8, 5))\n",
    "wt = np.arange(4)\n",
    "bin_ratio = retired.groupby('age_bin').size() / np.sum(student.groupby('age_bin').size())\n",
    "target_ratio = retired.groupby('age_bin').y.mean()\n",
    "ax.bar(wt, bin_ratio, label='bin ratio')\n",
    "ax.plot(target_ratio, c='y', label='target ratio')\n",
    "ax.set_xticks(wt)\n",
    "ax.set_xticklabels(['under 50', '50 - 59', '60 - 69', 'over 70'])\n",
    "plt.show()"
   ]
  },
  {
   "cell_type": "markdown",
   "metadata": {},
   "source": [
    "ある一定の年齢を超えるとtargetの割合が増えることがわかる\n",
    "\n",
    "つまり年齢とターゲットのは2次関数的な下に凸な放物線のような形を描くのでは？"
   ]
  },
  {
   "cell_type": "markdown",
   "metadata": {},
   "source": [
    "## 年齢分布"
   ]
  },
  {
   "cell_type": "code",
   "execution_count": 64,
   "metadata": {},
   "outputs": [
    {
     "data": {
      "image/png": "[encoded data removed]",
      "text/plain": [
       "<Figure size 1080x360 with 1 Axes>"
      ]
     },
     "metadata": {
      "needs_background": "light"
     },
     "output_type": "display_data"
    }
   ],
   "source": [
    "fig, ax = plt.subplots(1, 1, figsize=(15, 5))\n",
    "sns.countplot(x='age', data=data, ax=ax)\n",
    "plt.show()"
   ]
  },
  {
   "cell_type": "code",
   "execution_count": 48,
   "metadata": {},
   "outputs": [],
   "source": [
    "def bining_age(age):\n",
    "    if age <= 25:\n",
    "        return '25 (under)'\n",
    "    elif 26 <= age < 35:\n",
    "        return '26 - 35'\n",
    "    elif 35 < age <=  45:\n",
    "        return '36 - 45'\n",
    "    elif 45 < age <= 55:\n",
    "        return '46 - 55'\n",
    "    else:\n",
    "        return  '56 (over)'"
   ]
  },
  {
   "cell_type": "code",
   "execution_count": 49,
   "metadata": {},
   "outputs": [],
   "source": [
    "df_age = data[['age', 'y']].copy()"
   ]
  },
  {
   "cell_type": "code",
   "execution_count": 50,
   "metadata": {},
   "outputs": [],
   "source": [
    "df_age['bin'] = data['age'].map(bining_age)"
   ]
  },
  {
   "cell_type": "code",
   "execution_count": 61,
   "metadata": {},
   "outputs": [
    {
     "data": {
      "image/png": "[encoded data removed]",
      "text/plain": [
       "<Figure size 576x360 with 1 Axes>"
      ]
     },
     "metadata": {
      "needs_background": "light"
     },
     "output_type": "display_data"
    }
   ],
   "source": [
    "fig, ax = plt.subplots(1, 1, figsize=(8, 5))\n",
    "wt = np.arange(5)\n",
    "\n",
    "freq = (df_age.groupby('bin').size() / len(data))\n",
    "target_ratio = df_age.groupby('bin').y.mean()\n",
    "\n",
    "ax.bar(wt, freq, label='frequency')\n",
    "ax.plot(target_ratio, c='y', label='target ratio')\n",
    "ax.set_xticks(wt)\n",
    "ax.set_xticklabels(bin_ratio.index)\n",
    "plt.legend()\n",
    "plt.show()"
   ]
  },
  {
   "cell_type": "code",
   "execution_count": 66,
   "metadata": {},
   "outputs": [
    {
     "data": {
      "text/plain": [
       "job\n",
       "admin.           38.200371\n",
       "blue-collar      39.528484\n",
       "entrepreneur     41.599281\n",
       "housemaid        44.071125\n",
       "management       42.147137\n",
       "retired          57.240741\n",
       "self-employed    40.119323\n",
       "services         38.007930\n",
       "student          26.864000\n",
       "technician       38.444246\n",
       "unemployed       39.678188\n",
       "unknown          44.569444\n",
       "Name: age, dtype: float64"
      ]
     },
     "execution_count": 66,
     "metadata": {},
     "output_type": "execute_result"
    }
   ],
   "source": [
    "data.groupby('job').age.mean()"
   ]
  },
  {
   "cell_type": "markdown",
   "metadata": {},
   "source": [
    "以上より、target比率はjobよりはageによる影響が大きいと思われる。  \n",
    "ここではこれ以上深掘りしないがofficeworkerの年齢の平均は30代後半から40代前半で一番targetの比率が底になるところになる  \n",
    "突き詰めるなら各カテゴリ内で同様の年齢分布をとって、似たような傾向があるか探る。"
   ]
  },
  {
   "cell_type": "markdown",
   "metadata": {},
   "source": [
    "## Education"
   ]
  },
  {
   "cell_type": "code",
   "execution_count": 70,
   "metadata": {},
   "outputs": [],
   "source": [
    "def enc_education(education):\n",
    "    if education in ['basic.4y', 'basic.6y', 'basic.9y']:\n",
    "        #基礎教育\n",
    "        return 'basic'\n",
    "    elif education == 'high.school':\n",
    "        #高等教育\n",
    "        return 'higher'\n",
    "    elif education in ['university.degree', 'professional.course']:\n",
    "        #専門教育\n",
    "        return 'university'\n",
    "    else:\n",
    "        return education"
   ]
  },
  {
   "cell_type": "code",
   "execution_count": 73,
   "metadata": {},
   "outputs": [],
   "source": [
    "df_education = data[['education', 'y']].copy()"
   ]
  },
  {
   "cell_type": "code",
   "execution_count": 74,
   "metadata": {},
   "outputs": [],
   "source": [
    "df_education['education'] = data['education'].map(enc_education)"
   ]
  },
  {
   "cell_type": "code",
   "execution_count": 75,
   "metadata": {},
   "outputs": [
    {
     "data": {
      "image/png": "[encoded data removed]",
      "text/plain": [
       "<Figure size 1080x360 with 1 Axes>"
      ]
     },
     "metadata": {
      "needs_background": "light"
     },
     "output_type": "display_data"
    }
   ],
   "source": [
    "fig, ax = plt.subplots(1, 1, figsize=(15, 5))\n",
    "\n",
    "freq = df_education.groupby('education').size() / len(data)\n",
    "target_ratio = df_education.groupby('education').y.mean()\n",
    "\n",
    "wt = np.arange(len(freq))\n",
    "ax.bar(wt, freq, width=0.4, label='frequencey')\n",
    "ax.bar(wt +0.4 ,target_ratio , width=0.4, label='target ratio')\n",
    "ax.set_xticks(wt + 0.2)\n",
    "ax.set_xticklabels(freq.index)\n",
    "plt.legend()\n",
    "plt.show()"
   ]
  },
  {
   "cell_type": "markdown",
   "metadata": {},
   "source": [
    "illiterate以外、学歴によるtargetの比率にはそれほど差は内容にない  "
   ]
  },
  {
   "cell_type": "code",
   "execution_count": 87,
   "metadata": {},
   "outputs": [
    {
     "data": {
      "text/plain": [
       "132146"
      ]
     },
     "execution_count": 87,
     "metadata": {},
     "output_type": "execute_result"
    }
   ],
   "source": [
    "del df_education\n",
    "gc.collect()"
   ]
  },
  {
   "cell_type": "markdown",
   "metadata": {},
   "source": [
    "## pdays"
   ]
  },
  {
   "cell_type": "code",
   "execution_count": 84,
   "metadata": {},
   "outputs": [
    {
     "data": {
      "image/png": "[encoded data removed]",
      "text/plain": [
       "<Figure size 1080x360 with 2 Axes>"
      ]
     },
     "metadata": {
      "needs_background": "light"
     },
     "output_type": "display_data"
    }
   ],
   "source": [
    "fig, axes = plt.subplots(2, 1, figsize=(15, 5))\n",
    "axes.ravel()\n",
    "sns.countplot(x='pdays', data=data, ax=axes[0])\n",
    "sns.countplot(x='pdays', hue='y', data=data[data['pdays'] != 999], ax=axes[1])\n",
    "plt.show()"
   ]
  },
  {
   "cell_type": "code",
   "execution_count": 90,
   "metadata": {},
   "outputs": [],
   "source": [
    "df_pdays = data[['pdays', 'y']].copy()"
   ]
  },
  {
   "cell_type": "code",
   "execution_count": 91,
   "metadata": {},
   "outputs": [],
   "source": [
    "df_pdays['customer'] = data['pdays'].map(lambda x: 'newly' if x == 999 else 'exists')"
   ]
  },
  {
   "cell_type": "code",
   "execution_count": 94,
   "metadata": {},
   "outputs": [
    {
     "data": {
      "image/png": "[encoded data removed]",
      "text/plain": [
       "<Figure size 720x360 with 1 Axes>"
      ]
     },
     "metadata": {
      "needs_background": "light"
     },
     "output_type": "display_data"
    }
   ],
   "source": [
    "fig, ax = plt.subplots(1, 1, figsize=(10, 5))\n",
    "\n",
    "freq = df_pdays.groupby('customer').size() / len(data)\n",
    "target_ratio = df_pdays.groupby('customer').y.mean()\n",
    "\n",
    "wt = np.arange(len(freq.index))\n",
    "ax.bar(wt, freq, width=0.4, label='frequencey')\n",
    "ax.bar(wt +0.4 ,target_ratio , width=0.4, label='target ratio')\n",
    "ax.set_xticks(wt + 0.2)\n",
    "ax.set_xticklabels(freq.index)\n",
    "plt.legend()\n",
    "plt.show()"
   ]
  },
  {
   "cell_type": "markdown",
   "metadata": {},
   "source": [
    "新規顧客より前回のキャンペーンで連絡が取れた顧客の方がtargetの比率が高い  \n",
    "ただ顧客の新規開拓しないければならないのも事実なのでこれをどう受け止めるかは考えよう"
   ]
  },
  {
   "cell_type": "markdown",
   "metadata": {},
   "source": [
    "## ロジスティック回帰で各変数の重要度をみる"
   ]
  },
  {
   "cell_type": "markdown",
   "metadata": {},
   "source": [
    "- age:ビニング\n",
    "- job:カテゴライズ\n",
    "    - office worker、student、retired、その他\n",
    " - educatio：カテゴライズ\n",
    "     - basicをまとめた基礎教育、high schoolの高等教育、それ以上の大学教育、illitarrate\n",
    "- marital:カテゴライズ\n",
    "    - 結婚しているパートナー持ち、離婚、未婚のシングル\n",
    "\n",
    "\n",
    "カテゴリ変数はダミー変数化させて、基準のカテゴリを落とす"
   ]
  },
  {
   "cell_type": "code",
   "execution_count": 136,
   "metadata": {},
   "outputs": [],
   "source": [
    "def bining_age(age):\n",
    "    if age <= 25:\n",
    "        return 'under 25'\n",
    "    elif 26 <= age < 35:\n",
    "        return '26 - 35'\n",
    "    elif 35 < age <=  45:\n",
    "        return '36 - 45'\n",
    "    elif 45 < age <= 55:\n",
    "        return '46 - 55'\n",
    "    else:\n",
    "        return  'over 56'\n",
    "    \n",
    "    \n",
    "def enc_job(job):\n",
    "    if job in ['admin.', 'blue-collar', 'management', 'entrepreneur']:\n",
    "        #office worker\n",
    "        return 'office worker'\n",
    "    elif job in ['housemaid', 'services', 'technician', 'self-employed']:\n",
    "        return 'other worker'\n",
    "    else:\n",
    "        return job\n",
    "    \n",
    "def enc_education(education):\n",
    "    if education in ['basic.4y', 'basic.6y', 'basic.9y']:\n",
    "        #基礎教育\n",
    "        return 'basic'\n",
    "    elif education == 'high.school':\n",
    "        #高等教育\n",
    "        return 'higher'\n",
    "    elif education in ['university.degree', 'professional.course']:\n",
    "        #専門教育\n",
    "        return 'university'\n",
    "    else:\n",
    "        return education\n",
    "    \n",
    "def enc_marital(marital):\n",
    "    if marital == 'married':\n",
    "        #パートナーあり\n",
    "        return 'has partner'\n",
    "    elif marital in ['single', 'divorced']:\n",
    "        #パートナーなし\n",
    "        return 'single'\n",
    "    else:\n",
    "        return marital\n",
    "\n",
    "def load_preprocess():\n",
    "    bank_data = pd.read_csv('bank_marketing_train.csv')\n",
    "    y_map = {'yes':1, 'no':0}\n",
    "    bank_data['y'] = bank_data['y'].map(y_map)\n",
    "    \n",
    "    bank_data['age_bin'] = bank_data['age'].map(bining_age).astype(str)\n",
    "    \n",
    "    bank_data['default'] = bank_data['default'].str.replace('yes', 'unknown')\n",
    "    bank_data['default'] = bank_data['default'].str.replace('unknown', 'yes_or_unkonwn')\n",
    "    \n",
    "    bank_data['pdays'] = bank_data['pdays'].map(lambda x: 'newly' if x == 999 else 'exisits').astype(str)\n",
    "    \n",
    "    bank_data['job_category'] = bank_data['job'].map(enc_job).astype(str)\n",
    "    \n",
    "    bank_data['education_category'] = bank_data['education'].map(enc_education).astype(str)\n",
    "    \n",
    "    bank_data['marital'] = bank_data['marital'].map(enc_marital)\n",
    "      \n",
    "    bank_data.drop(['job', 'education', 'duration', 'age'], axis=1, inplace=True)\n",
    "    \n",
    "    return bank_data"
   ]
  },
  {
   "cell_type": "code",
   "execution_count": 137,
   "metadata": {},
   "outputs": [],
   "source": [
    "data = load_preprocess()"
   ]
  },
  {
   "cell_type": "code",
   "execution_count": 138,
   "metadata": {},
   "outputs": [],
   "source": [
    "cat_cols = data.select_dtypes('object').columns\n",
    "num_cols = data.select_dtypes(exclude='object').columns\n",
    "\n",
    "dummy = pd.get_dummies(data[cat_cols], drop_first = True)\n",
    "data = pd.concat([dummy, data[num_cols]], axis=1)"
   ]
  },
  {
   "cell_type": "code",
   "execution_count": 139,
   "metadata": {},
   "outputs": [],
   "source": [
    "X = data.drop('y', axis=1)\n",
    "y = data.y"
   ]
  },
  {
   "cell_type": "code",
   "execution_count": 140,
   "metadata": {},
   "outputs": [],
   "source": [
    "glm = sm.GLM(y, X, family=sm.families.Binomial())\n",
    "result = glm.fit()"
   ]
  },
  {
   "cell_type": "code",
   "execution_count": 141,
   "metadata": {},
   "outputs": [],
   "source": [
    "df_sumarry = pd.DataFrame({'logit': np.exp(result.params), 'p-value':result.pvalues.values}, index=result.pvalues.index)"
   ]
  },
  {
   "cell_type": "code",
   "execution_count": 142,
   "metadata": {},
   "outputs": [
    {
     "data": {
      "image/png": "[encoded data removed]",
      "text/plain": [
       "<Figure size 1080x360 with 1 Axes>"
      ]
     },
     "metadata": {
      "needs_background": "light"
     },
     "output_type": "display_data"
    }
   ],
   "source": [
    "fig, ax = plt.subplots(1, 1, figsize=(15, 5))\n",
    "ax.hlines(1, 1, len(df_sumarry.index))\n",
    "ax.plot(df_sumarry.logit, 'o')\n",
    "plt.xticks(range(df_sumarry.shape[0]), df_sumarry.index, rotation = 90, size=12)\n",
    "ax.grid(True)"
   ]
  },
  {
   "cell_type": "markdown",
   "metadata": {},
   "source": [
    "ビジネスで考えれば外的要因より、顧客自身がもつ性質で成約の期待値が高い顧客のペルソナを探した方がよさそう"
   ]
  },
  {
   "cell_type": "code",
   "execution_count": 143,
   "metadata": {},
   "outputs": [],
   "source": [
    "data = load_preprocess()"
   ]
  },
  {
   "cell_type": "code",
   "execution_count": 144,
   "metadata": {},
   "outputs": [],
   "source": [
    "data.drop(['month', 'nr.employed', 'emp.var.rate', 'cons.price.idx', 'cons.conf.idx', 'euribor3m',  'day_of_week'], axis=1, inplace=True)"
   ]
  },
  {
   "cell_type": "code",
   "execution_count": 145,
   "metadata": {},
   "outputs": [],
   "source": [
    "cat_cols = data.select_dtypes('object').columns\n",
    "num_cols = data.select_dtypes(exclude='object').columns\n",
    "\n",
    "dummy = pd.get_dummies(data[cat_cols], drop_first = True)\n",
    "data = pd.concat([dummy, data[num_cols]], axis=1)"
   ]
  },
  {
   "cell_type": "code",
   "execution_count": 146,
   "metadata": {},
   "outputs": [],
   "source": [
    "X = data.drop('y', axis=1)\n",
    "y = data.y"
   ]
  },
  {
   "cell_type": "code",
   "execution_count": 147,
   "metadata": {},
   "outputs": [],
   "source": [
    "glm = sm.GLM(y, X, family=sm.families.Binomial())\n",
    "result = glm.fit()"
   ]
  },
  {
   "cell_type": "code",
   "execution_count": 148,
   "metadata": {},
   "outputs": [],
   "source": [
    "df_sumarry = pd.DataFrame({'logit': np.exp(result.params), 'p-value':result.pvalues.values}, index=result.pvalues.index)"
   ]
  },
  {
   "cell_type": "code",
   "execution_count": 149,
   "metadata": {},
   "outputs": [
    {
     "data": {
      "text/html": [
       "<div>\n",
       "<style scoped>\n",
       "    .dataframe tbody tr th:only-of-type {\n",
       "        vertical-align: middle;\n",
       "    }\n",
       "\n",
       "    .dataframe tbody tr th {\n",
       "        vertical-align: top;\n",
       "    }\n",
       "\n",
       "    .dataframe thead th {\n",
       "        text-align: right;\n",
       "    }\n",
       "</style>\n",
       "<table border=\"1\" class=\"dataframe\">\n",
       "  <thead>\n",
       "    <tr style=\"text-align: right;\">\n",
       "      <th></th>\n",
       "      <th>logit</th>\n",
       "      <th>p-value</th>\n",
       "    </tr>\n",
       "  </thead>\n",
       "  <tbody>\n",
       "    <tr>\n",
       "      <th>default_yes_or_unkonwn</th>\n",
       "      <td>0.656715</td>\n",
       "      <td>6.619593e-13</td>\n",
       "    </tr>\n",
       "    <tr>\n",
       "      <th>contact_telephone</th>\n",
       "      <td>0.479797</td>\n",
       "      <td>6.296426e-51</td>\n",
       "    </tr>\n",
       "    <tr>\n",
       "      <th>pdays_newly</th>\n",
       "      <td>0.110490</td>\n",
       "      <td>1.126495e-31</td>\n",
       "    </tr>\n",
       "    <tr>\n",
       "      <th>age_bin_36 - 45</th>\n",
       "      <td>0.804658</td>\n",
       "      <td>2.983577e-05</td>\n",
       "    </tr>\n",
       "    <tr>\n",
       "      <th>age_bin_46 - 55</th>\n",
       "      <td>0.773083</td>\n",
       "      <td>2.843710e-05</td>\n",
       "    </tr>\n",
       "    <tr>\n",
       "      <th>age_bin_under 25</th>\n",
       "      <td>1.366681</td>\n",
       "      <td>1.184835e-03</td>\n",
       "    </tr>\n",
       "    <tr>\n",
       "      <th>job_category_other worker</th>\n",
       "      <td>0.908924</td>\n",
       "      <td>3.660004e-02</td>\n",
       "    </tr>\n",
       "    <tr>\n",
       "      <th>job_category_retired</th>\n",
       "      <td>1.686653</td>\n",
       "      <td>1.582798e-06</td>\n",
       "    </tr>\n",
       "    <tr>\n",
       "      <th>job_category_student</th>\n",
       "      <td>2.132798</td>\n",
       "      <td>4.359813e-09</td>\n",
       "    </tr>\n",
       "    <tr>\n",
       "      <th>education_category_university</th>\n",
       "      <td>1.160031</td>\n",
       "      <td>3.736008e-03</td>\n",
       "    </tr>\n",
       "    <tr>\n",
       "      <th>campaign</th>\n",
       "      <td>0.936030</td>\n",
       "      <td>2.925036e-11</td>\n",
       "    </tr>\n",
       "  </tbody>\n",
       "</table>\n",
       "</div>"
      ],
      "text/plain": [
       "                                  logit       p-value\n",
       "default_yes_or_unkonwn         0.656715  6.619593e-13\n",
       "contact_telephone              0.479797  6.296426e-51\n",
       "pdays_newly                    0.110490  1.126495e-31\n",
       "age_bin_36 - 45                0.804658  2.983577e-05\n",
       "age_bin_46 - 55                0.773083  2.843710e-05\n",
       "age_bin_under 25               1.366681  1.184835e-03\n",
       "job_category_other worker      0.908924  3.660004e-02\n",
       "job_category_retired           1.686653  1.582798e-06\n",
       "job_category_student           2.132798  4.359813e-09\n",
       "education_category_university  1.160031  3.736008e-03\n",
       "campaign                       0.936030  2.925036e-11"
      ]
     },
     "execution_count": 149,
     "metadata": {},
     "output_type": "execute_result"
    }
   ],
   "source": [
    "df_sumarry[df_sumarry['p-value'] <= 0.05]"
   ]
  },
  {
   "cell_type": "markdown",
   "metadata": {},
   "source": [
    "- deaultしていない方が成約率が高い\n",
    "- contact telephoneよりcellerの方が成約率が高い\n",
    "    - durationが起因?確かにcellularの方がduraionの平均は高いのだが、それほどの差ではない"
   ]
  },
  {
   "cell_type": "markdown",
   "metadata": {},
   "source": [
    "### contact"
   ]
  },
  {
   "cell_type": "code",
   "execution_count": 162,
   "metadata": {},
   "outputs": [
    {
     "data": {
      "image/png": "[encoded data removed]",
      "text/plain": [
       "<Figure size 504x360 with 1 Axes>"
      ]
     },
     "metadata": {
      "needs_background": "light"
     },
     "output_type": "display_data"
    },
    {
     "name": "stdout",
     "output_type": "stream",
     "text": [
      "contact\n",
      "cellular     258.654230\n",
      "telephone    249.206727\n",
      "Name: duration, dtype: float64\n"
     ]
    }
   ],
   "source": [
    "fig, ax = plt.subplots(1, 1, figsize=(7, 5))\n",
    "\n",
    "ratio = data.groupby('contact').size() / len(data)\n",
    "target_ratio = data.groupby('contact').y.mean()\n",
    "\n",
    "wt = np.arange(len(ratio))\n",
    "ax.bar(wt, ratio, width=0.4, label='contact frequencey')\n",
    "ax.bar(wt +0.4 ,target_ratio , width=0.4, label='target ratio')\n",
    "ax.set_xticks(wt + 0.2)\n",
    "ax.set_xticklabels(ratio.index)\n",
    "\n",
    "duraion_mean = data.groupby('contact').duration.mean()\n",
    "# ax2= ax.twinx()\n",
    "# ax2.plot(duraion_mean, c='r', label='duration mean sec')\n",
    "\n",
    "plt.legend()\n",
    "plt.show()\n",
    "\n",
    "print(duraion_mean)"
   ]
  },
  {
   "cell_type": "markdown",
   "metadata": {},
   "source": [
    "どんな顧客にアタックするべきか...\n",
    "\n",
    "- 年齢は若い方がいい。それか55歳を超えたあたりの顧客。中年は成約率が低い\n",
    "- 全くの新規の顧客より、前にコンタクトがとれた顧客は成約率が高い傾向にある\n",
    " - つまり中年の顧客でも以前コンタクトが取れた顧客であれば再アタックするのはいいかもしれない"
   ]
  }
 ],
 "metadata": {
  "kernelspec": {
   "display_name": "Python 3",
   "language": "python",
   "name": "python3"
  },
  "language_info": {
   "codemirror_mode": {
    "name": "ipython",
    "version": 3
   },
   "file_extension": ".py",
   "mimetype": "text/x-python",
   "name": "python",
   "nbconvert_exporter": "python",
   "pygments_lexer": "ipython3",
   "version": "3.7.3"
  }
 },
 "nbformat": 4,
 "nbformat_minor": 2
}
