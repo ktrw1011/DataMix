{
 "cells": [
  {
   "cell_type": "code",
   "execution_count": 1,
   "metadata": {},
   "outputs": [],
   "source": [
    "import pandas as pd\n",
    "import numpy as np\n",
    "import feather\n",
    "\n",
    "import seaborn as sns\n",
    "import matplotlib.pyplot as plt\n",
    "\n",
    "from sklearn.preprocessing import LabelEncoder, OneHotEncoder\n",
    "from sklearn.model_selection import train_test_split, StratifiedKFold\n",
    "from sklearn.metrics import roc_auc_score, recall_score, f1_score, confusion_matrix\n",
    "\n",
    "\n",
    "from sklearn.ensemble import RandomForestClassifier\n",
    "from sklearn.linear_model import LogisticRegression\n",
    "\n",
    "from tqdm import tqdm_notebook\n",
    "import warnings\n",
    "import gc\n",
    "\n",
    "warnings.filterwarnings('ignore')\n",
    "\n",
    "%matplotlib inline"
   ]
  },
  {
   "cell_type": "code",
   "execution_count": 2,
   "metadata": {},
   "outputs": [],
   "source": [
    "def bining_age(age):\n",
    "    if age <= 25:\n",
    "        return '0'\n",
    "    elif 26 <= age < 35:\n",
    "        return '2'\n",
    "    elif 35 < age <=  45:\n",
    "        return '3'\n",
    "    elif 45 < age <= 55:\n",
    "        return '4'\n",
    "    else:\n",
    "        return  '5'\n",
    "    \n",
    "    \n",
    "def enc_job(job):\n",
    "    if job in ['admin.', 'blue-collar', 'management', 'entrepreneur']:\n",
    "        #office worker\n",
    "        return 'office worker'\n",
    "    elif job in ['housemaid', 'services', 'technician', 'self-employed']:\n",
    "        return 'other worker'\n",
    "    else:\n",
    "        return job\n",
    "    \n",
    "def enc_education(education):\n",
    "    if education in ['basic.4y', 'basic.6y', 'basic.9y']:\n",
    "        #基礎教育\n",
    "        return 'basic'\n",
    "    elif education == 'high.school':\n",
    "        #高等教育\n",
    "        return 'higher'\n",
    "    elif education in ['university.degree', 'professional.course']:\n",
    "        #専門教育\n",
    "        return 'university'\n",
    "    else:\n",
    "        return education\n",
    "    \n",
    "def enc_marital(marital):\n",
    "    if marital == 'married':\n",
    "        #パートナーあり\n",
    "        return 'has partner'\n",
    "    elif marital in ['single', 'divorced']:\n",
    "        #パートナーなし\n",
    "        return 'single'\n",
    "    else:\n",
    "        return marital"
   ]
  },
  {
   "cell_type": "code",
   "execution_count": 3,
   "metadata": {},
   "outputs": [],
   "source": [
    "def load_cleansing_data(test_file=None):\n",
    "    if test_file is None:\n",
    "        #実験環境\n",
    "        train_data = feather.read_dataframe('./input/train_data')\n",
    "        test_data = feather.read_dataframe('./input/test_data')\n",
    "    else:\n",
    "        #本番環境\n",
    "        train_data = pd.read_csv('./input/bank_marketing_train.csv')\n",
    "        test_data = pd.read_csv('./input/'+test_file)\n",
    "        \n",
    "    #concat\n",
    "    train_len = len(train_data)\n",
    "    traintest = pd.concat([train_data, test_data])\n",
    "    \n",
    "    #target map\n",
    "    traintest['y'] =  traintest['y'].map(lambda x : 1 if x == 'yes' else 0)\n",
    "    \n",
    "    #not using duration\n",
    "    traintest.drop('duration', axis=1, inplace=True)\n",
    "    \n",
    "    #cleansing\n",
    "    #missing value\n",
    "    cat_cols = traintest.select_dtypes('object')\n",
    "    num_cols = traintest.select_dtypes(exclude='object').drop('y', axis=1)\n",
    "    \n",
    "    for col in num_cols:\n",
    "        missing = train_data[col].isnull().sum()\n",
    "        if missing > 0:\n",
    "            #平均値で埋める\n",
    "            mean = train_data[col].mean()\n",
    "            train_data[col].fillna(mean, inplace=True)\n",
    "        \n",
    "        #print(col + ' : fill missing count {}'.format(missing))\n",
    "        \n",
    "    for col in cat_cols:\n",
    "        missing = train_data[col].isnull().sum()\n",
    "        if missing > 0:\n",
    "            #unknownで埋める\n",
    "            train_data[col].fillna('unknown', inplace=True)\n",
    "            \n",
    "        #print(col + ' : fill missing count {}'.format(missing))\n",
    "        \n",
    "    return traintest, train_len"
   ]
  },
  {
   "cell_type": "code",
   "execution_count": 4,
   "metadata": {},
   "outputs": [],
   "source": [
    "def cv_loop_prediction(train_data, test_data, model):\n",
    "    folds = StratifiedKFold(n_splits=5, shuffle=True, random_state=42)\n",
    "    oof_preds_proba = np.zeros(len(train_data))\n",
    "    preds_proba  = np.zeros(len(test_data))\n",
    "    \n",
    "    X = train_data.drop('y', axis=1)\n",
    "    y = train_data.y\n",
    "    \n",
    "    X_test = test_data.drop('y', axis=1)\n",
    "    \n",
    "    for fold_, (trn_idx, val_idx) in enumerate(folds.split(X, y)):\n",
    "        print('fold {}'.format(str(fold_+1)))\n",
    "        X_train,  y_train = X.iloc[trn_idx], y.iloc[trn_idx]\n",
    "        X_val, y_val = X.iloc[val_idx], y.iloc[val_idx]\n",
    "\n",
    "        model.fit(X_train, y_train)\n",
    "\n",
    "        oof_preds_proba[val_idx] = model.predict_proba(X_val)[:, 1]\n",
    "        print('auc: {:.4f}'.format(roc_auc_score(y_val, oof_preds_proba[val_idx])))\n",
    "\n",
    "        preds_proba += model.predict_proba(X_test)[:, 1] / folds.n_splits\n",
    "\n",
    "    print('\\n------OOF socre-------')\n",
    "    calc_metrics(y, oof_preds_proba, 0.5)\n",
    "        \n",
    "    print('\\n--------Optimazed--------')\n",
    "    search_result  = threshold_search(y,  oof_preds_proba)\n",
    "    print('search_result', search_result)\n",
    "    threshold = search_result['threshold']\n",
    "    \n",
    "    calc_metrics(y, oof_preds_proba, threshold)\n",
    "\n",
    "    return oof_preds_proba, preds_proba, threshold"
   ]
  },
  {
   "cell_type": "code",
   "execution_count": 5,
   "metadata": {},
   "outputs": [],
   "source": [
    "def calc_metrics(y_true, predict_proba, threshold):\n",
    "    print('auc {:.4f}'.format(roc_auc_score(y_true, predict_proba)))\n",
    "    predict_proba_optimaized = (predict_proba >= threshold).astype(int)\n",
    "    print('f1-score: {:.4f}'.format(f1_score(y_true, predict_proba_optimaized)))\n",
    "    \n",
    "    print('confution matarix \\n', confusion_matrix(y_true, predict_proba_optimaized))\n",
    "    print('expect profit: {}'.format(calc_expected_profit(y_true, predict_proba_optimaized)))"
   ]
  },
  {
   "cell_type": "code",
   "execution_count": 6,
   "metadata": {},
   "outputs": [],
   "source": [
    "def threshold_search(y_true, y_proba):\n",
    "    best_threshold = 0\n",
    "    best_score = 0\n",
    "    with warnings.catch_warnings():\n",
    "        warnings.simplefilter(\"ignore\")\n",
    "        for threshold in tqdm_notebook([i * 0.01 for i in range(100)], disable=True):\n",
    "            score = f1_score(y_true=y_true, y_pred=y_proba > threshold)\n",
    "            if score > best_score:\n",
    "                best_threshold = threshold\n",
    "                best_score = score\n",
    "        search_result = {'threshold': best_threshold, 'f1': best_score}\n",
    "\n",
    "    return search_result"
   ]
  },
  {
   "cell_type": "code",
   "execution_count": 7,
   "metadata": {},
   "outputs": [],
   "source": [
    "def calc_expected_profit(y_test, y_pred):\n",
    "    attack_list = np.where(y_pred == 1)[0]\n",
    "    success = y_test.values[attack_list]\n",
    "    \n",
    "    #成功数*2000 - 架電数*500\n",
    "    expected_profit = np.sum(success)*2000 - len(attack_list) * 500 \n",
    "    \n",
    "    return expected_profit"
   ]
  },
  {
   "cell_type": "markdown",
   "metadata": {},
   "source": [
    "## データのクレンジング\n",
    "- 万が一の欠損値があったときのために\n",
    "    - Numeric feature: fill mean\n",
    "    - Category feature: fill 'unknonw'\n",
    "    \n",
    "## 予測パート\n",
    "- モデリングにおける評価指標はインバランスなのでAUC\n",
    "- StratifiedKFold (k=5) でモデルを学習させる。各Foldのモデルでtest全体を予測して平均する\n",
    "- 各Foldで得られたtrainの予測を使って、F1を最大化させる閾値を機械的に求める\n",
    "    - もちろんtrainで最良の閾値なのでtestで最良とは限らないが、汎化してれば近い値で最適化できはずと考えた結果\n",
    "    - F1最大=profit最大とは限らないがそれでもだいたい比例関係にあるはず"
   ]
  },
  {
   "cell_type": "code",
   "execution_count": 8,
   "metadata": {},
   "outputs": [],
   "source": [
    "traintest, train_len = load_cleansing_data(test_file='bank_marketing_test-1.csv')"
   ]
  },
  {
   "cell_type": "markdown",
   "metadata": {},
   "source": [
    "# RogisticRegression\n",
    "\n",
    "- jobをカテゴライズ、One-hot-Encodingしたのち、ageをマッピング\n",
    "- pdaysは999を新規として、それ以外を既存としてカテゴリ変数化\n",
    "- ドロップするカラム\n",
    "    - 'age', 'job', 'education', 'marital', 'previous', 'loan', 'nr.employed', 'cons.conf.idx', 'cons.price.idx'"
   ]
  },
  {
   "cell_type": "code",
   "execution_count": 9,
   "metadata": {},
   "outputs": [],
   "source": [
    "def preprocess_for_linear(traintest, train_len):\n",
    "    \n",
    "    job_dummy = pd.get_dummies(traintest['job'].map(enc_job))\n",
    "    job_dummy = pd.DataFrame(job_dummy * traintest['age'].values.reshape(-1, 1), columns=job_dummy.columns)\n",
    "    traintest = pd.concat([traintest, job_dummy], axis=1)\n",
    "    \n",
    "    traintest['pdays'] = traintest['pdays'].map(lambda x: 'newly' if x == 999 else 'exisits')\n",
    "    \n",
    "    traintest.drop(['age', 'job', 'education', 'marital', 'previous', 'loan', 'nr.employed', 'cons.conf.idx', 'cons.price.idx'], axis=1, inplace=True)\n",
    "    \n",
    "    cat_cols = traintest.select_dtypes('object').columns\n",
    "    num_cols = traintest.select_dtypes(exclude='object').columns\n",
    "        \n",
    "    #category columns dummy変数化\n",
    "    traintest_dummy = pd.get_dummies(traintest[cat_cols], drop_first=True)\n",
    "    \n",
    "    traintest = pd.concat([traintest_dummy, traintest[num_cols]], axis=1)\n",
    "    \n",
    "    print('columns...\\n', traintest.columns.tolist())\n",
    "\n",
    "    #split\n",
    "    train_traintest = traintest.iloc[:train_len , :].copy()\n",
    "    test_traintest = traintest.iloc[train_len: , :].copy()\n",
    "    \n",
    "    return train_traintest, test_traintest"
   ]
  },
  {
   "cell_type": "code",
   "execution_count": 10,
   "metadata": {},
   "outputs": [],
   "source": [
    "traintest_linear = traintest.copy()"
   ]
  },
  {
   "cell_type": "code",
   "execution_count": 11,
   "metadata": {},
   "outputs": [
    {
     "name": "stdout",
     "output_type": "stream",
     "text": [
      "columns...\n",
      " ['default_unknown', 'default_yes', 'housing_unknown', 'housing_yes', 'contact_telephone', 'month_aug', 'month_dec', 'month_jul', 'month_jun', 'month_mar', 'month_may', 'month_nov', 'month_oct', 'month_sep', 'day_of_week_mon', 'day_of_week_thu', 'day_of_week_tue', 'day_of_week_wed', 'pdays_newly', 'poutcome_nonexistent', 'poutcome_success', 'campaign', 'emp.var.rate', 'euribor3m', 'y', 'office worker', 'other worker', 'retired', 'student', 'unemployed', 'unknown']\n"
     ]
    }
   ],
   "source": [
    "train_data, test_data =  preprocess_for_linear(traintest_linear, train_len)"
   ]
  },
  {
   "cell_type": "code",
   "execution_count": 12,
   "metadata": {},
   "outputs": [
    {
     "name": "stdout",
     "output_type": "stream",
     "text": [
      "fold 1\n",
      "auc: 0.6997\n",
      "fold 2\n",
      "auc: 0.7137\n",
      "fold 3\n",
      "auc: 0.7194\n",
      "fold 4\n",
      "auc: 0.6832\n",
      "fold 5\n",
      "auc: 0.7155\n",
      "\n",
      "------OOF socre-------\n",
      "auc 0.7061\n",
      "f1-score: 0.0914\n",
      "confution matarix \n",
      " [[34228    93]\n",
      " [ 2611   136]]\n",
      "expect profit: 157500\n",
      "\n",
      "--------Optimazed--------\n",
      "search_result {'threshold': 0.18, 'f1': 0.31869369369369366}\n",
      "auc 0.7061\n",
      "f1-score: 0.3187\n",
      "confution matarix \n",
      " [[32589  1732]\n",
      " [ 1898   849]]\n",
      "expect profit: 407500\n"
     ]
    }
   ],
   "source": [
    "lr_train_preds_proba, lr_preds_proba, threshold = cv_loop_prediction(train_data, test_data, LogisticRegression())"
   ]
  },
  {
   "cell_type": "code",
   "execution_count": 13,
   "metadata": {},
   "outputs": [
    {
     "name": "stdout",
     "output_type": "stream",
     "text": [
      "auc 0.5799\n",
      "f1-score: 0.5934\n",
      "confution matarix \n",
      " [[ 771 1456]\n",
      " [ 480 1413]]\n",
      "expect profit: 1391500\n"
     ]
    }
   ],
   "source": [
    "calc_metrics(test_data.y, lr_preds_proba, threshold)"
   ]
  },
  {
   "cell_type": "markdown",
   "metadata": {},
   "source": [
    "# Random Forest"
   ]
  },
  {
   "cell_type": "markdown",
   "metadata": {},
   "source": [
    "- FEなしが結局最良だったのでラベルエンコードしてそのままモデルに与える"
   ]
  },
  {
   "cell_type": "code",
   "execution_count": 14,
   "metadata": {},
   "outputs": [],
   "source": [
    "def preprocess_for_tree(data, train_len): \n",
    "\n",
    "    #label encording\n",
    "    cat_cols = data.select_dtypes('object')\n",
    "    for col in cat_cols:\n",
    "        enc = LabelEncoder()\n",
    "        data[col] = enc.fit_transform(data[col])\n",
    "        \n",
    "    print('columns...\\n', traintest.columns.tolist())\n",
    "        \n",
    "    #split\n",
    "    train_data = data.iloc[:train_len , :].copy()\n",
    "    test_data = data.iloc[train_len: , :].copy()\n",
    "    \n",
    "    return train_data, test_data"
   ]
  },
  {
   "cell_type": "code",
   "execution_count": 15,
   "metadata": {},
   "outputs": [
    {
     "name": "stdout",
     "output_type": "stream",
     "text": [
      "columns...\n",
      " ['age', 'job', 'marital', 'education', 'default', 'housing', 'loan', 'contact', 'month', 'day_of_week', 'campaign', 'pdays', 'previous', 'poutcome', 'emp.var.rate', 'cons.price.idx', 'cons.conf.idx', 'euribor3m', 'nr.employed', 'y']\n"
     ]
    }
   ],
   "source": [
    "traintest_tree = traintest.copy()\n",
    "train_data, test_data = preprocess_for_tree(traintest_tree , train_len)"
   ]
  },
  {
   "cell_type": "code",
   "execution_count": 16,
   "metadata": {},
   "outputs": [],
   "source": [
    "model = RandomForestClassifier(n_estimators=500, max_depth=8, random_state=1024)"
   ]
  },
  {
   "cell_type": "code",
   "execution_count": 17,
   "metadata": {},
   "outputs": [
    {
     "name": "stdout",
     "output_type": "stream",
     "text": [
      "fold 1\n",
      "auc: 0.7131\n",
      "fold 2\n",
      "auc: 0.7150\n",
      "fold 3\n",
      "auc: 0.7254\n",
      "fold 4\n",
      "auc: 0.6952\n",
      "fold 5\n",
      "auc: 0.7373\n",
      "\n",
      "------OOF socre-------\n",
      "auc 0.7163\n",
      "f1-score: 0.0870\n",
      "confution matarix \n",
      " [[34230    91]\n",
      " [ 2618   129]]\n",
      "expect profit: 148000\n",
      "\n",
      "--------Optimazed--------\n",
      "search_result {'threshold': 0.17, 'f1': 0.3447607979856673}\n",
      "auc 0.7163\n",
      "f1-score: 0.3448\n",
      "confution matarix \n",
      " [[32795  1526]\n",
      " [ 1857   890]]\n",
      "expect profit: 572000\n"
     ]
    }
   ],
   "source": [
    "rf_train_preds_proba, rf_preds_proba, threshold = cv_loop_prediction(train_data, test_data, model)"
   ]
  },
  {
   "cell_type": "code",
   "execution_count": 18,
   "metadata": {},
   "outputs": [
    {
     "name": "stdout",
     "output_type": "stream",
     "text": [
      "auc 0.6048\n",
      "f1-score: 0.6298\n",
      "confution matarix \n",
      " [[   2 2225]\n",
      " [   0 1893]]\n",
      "expect profit: 1727000\n"
     ]
    }
   ],
   "source": [
    "calc_metrics(test_data.y, rf_preds_proba, threshold)"
   ]
  },
  {
   "cell_type": "markdown",
   "metadata": {},
   "source": [
    "*********"
   ]
  },
  {
   "cell_type": "code",
   "execution_count": 20,
   "metadata": {},
   "outputs": [
    {
     "name": "stdout",
     "output_type": "stream",
     "text": [
      "0.07410704650911838\n",
      "0.4594660194174757\n"
     ]
    }
   ],
   "source": [
    "print(train_data.y.mean())\n",
    "print(test_data.y.mean())"
   ]
  },
  {
   "cell_type": "markdown",
   "metadata": {},
   "source": [
    "テストデータは45%の顧客がクラス1＝成約している。  \n",
    "つまり、ほとんどすべての人にアタックにすることでROIを上げられることになる。  \n",
    "\n",
    "**経済指標のような外的要因によってターゲットが大きく作用される場合は、モデルを作ったときと実際に適用させる時に外的要因が大きくことなるものにならないかが重要**"
   ]
  }
 ],
 "metadata": {
  "kernelspec": {
   "display_name": "Python 3",
   "language": "python",
   "name": "python3"
  },
  "language_info": {
   "codemirror_mode": {
    "name": "ipython",
    "version": 3
   },
   "file_extension": ".py",
   "mimetype": "text/x-python",
   "name": "python",
   "nbconvert_exporter": "python",
   "pygments_lexer": "ipython3",
   "version": "3.7.3"
  }
 },
 "nbformat": 4,
 "nbformat_minor": 2
}
