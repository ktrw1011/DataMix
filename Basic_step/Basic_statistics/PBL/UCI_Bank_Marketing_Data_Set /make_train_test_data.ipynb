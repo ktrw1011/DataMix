{
 "cells": [
  {
   "cell_type": "code",
   "execution_count": 1,
   "metadata": {},
   "outputs": [],
   "source": [
    "import pandas as pd\n",
    "import numpy as np\n",
    "from sklearn.model_selection import train_test_split\n",
    "\n",
    "import feather"
   ]
  },
  {
   "cell_type": "code",
   "execution_count": 2,
   "metadata": {},
   "outputs": [],
   "source": [
    "def make_train_data(data, public_test_size=0.2, scaler=None):\n",
    "    '''\n",
    "    データをtrain_data:public_test_dataに分割する\n",
    "    '''\n",
    "    \n",
    "    X_ = data.drop(['y'], axis=1)\n",
    "    y_ = data['y']\n",
    "    \n",
    "    X_train_,  X_test_pb,  y_train_,  y_test_pb = train_test_split(X_ , y_, random_state=42, test_size=public_test_size)\n",
    "    \n",
    "    train_data = pd.concat([X_train_, y_train_], axis=1).reset_index(drop=True).copy()\n",
    "    \n",
    "    test_data = pd.concat([X_test_pb , y_test_pb], axis=1).reset_index(drop=True).copy()\n",
    "    \n",
    "    return train_data,  test_data"
   ]
  },
  {
   "cell_type": "code",
   "execution_count": 3,
   "metadata": {},
   "outputs": [],
   "source": [
    "data = pd.read_csv('./input/bank_marketing_train.csv')"
   ]
  },
  {
   "cell_type": "code",
   "execution_count": 4,
   "metadata": {},
   "outputs": [],
   "source": [
    "train_data, test_data = make_train_data(data)"
   ]
  },
  {
   "cell_type": "code",
   "execution_count": 5,
   "metadata": {},
   "outputs": [],
   "source": [
    "feather.write_dataframe(train_data, './input/train_data')"
   ]
  },
  {
   "cell_type": "code",
   "execution_count": 6,
   "metadata": {},
   "outputs": [],
   "source": [
    "feather.write_dataframe(test_data, './input/test_data')"
   ]
  }
 ],
 "metadata": {
  "kernelspec": {
   "display_name": "Python 3",
   "language": "python",
   "name": "python3"
  },
  "language_info": {
   "codemirror_mode": {
    "name": "ipython",
    "version": 3
   },
   "file_extension": ".py",
   "mimetype": "text/x-python",
   "name": "python",
   "nbconvert_exporter": "python",
   "pygments_lexer": "ipython3",
   "version": "3.7.3"
  }
 },
 "nbformat": 4,
 "nbformat_minor": 2
}
